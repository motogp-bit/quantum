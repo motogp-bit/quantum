{
 "cells": [
  {
   "cell_type": "code",
   "execution_count": 1,
   "id": "a08a1629-879b-4f4d-8da1-2d36f4157ef5",
   "metadata": {},
   "outputs": [
    {
     "name": "stdout",
     "output_type": "stream",
     "text": [
      "Give a number 4\n",
      "Give list of indices 1\n"
     ]
    },
    {
     "name": "stdout",
     "output_type": "stream",
     "text": [
      "[[1, 0, 0, 0, 0, 0, 0, 0, 0, 0, 0, 0, 0, 0, 0, 0], [0, -1, 0, 0, 0, 0, 0, 0, 0, 0, 0, 0, 0, 0, 0, 0], [0, 0, 1, 0, 0, 0, 0, 0, 0, 0, 0, 0, 0, 0, 0, 0], [0, 0, 0, 1, 0, 0, 0, 0, 0, 0, 0, 0, 0, 0, 0, 0], [0, 0, 0, 0, 1, 0, 0, 0, 0, 0, 0, 0, 0, 0, 0, 0], [0, 0, 0, 0, 0, 1, 0, 0, 0, 0, 0, 0, 0, 0, 0, 0], [0, 0, 0, 0, 0, 0, 1, 0, 0, 0, 0, 0, 0, 0, 0, 0], [0, 0, 0, 0, 0, 0, 0, 1, 0, 0, 0, 0, 0, 0, 0, 0], [0, 0, 0, 0, 0, 0, 0, 0, 1, 0, 0, 0, 0, 0, 0, 0], [0, 0, 0, 0, 0, 0, 0, 0, 0, 1, 0, 0, 0, 0, 0, 0], [0, 0, 0, 0, 0, 0, 0, 0, 0, 0, 1, 0, 0, 0, 0, 0], [0, 0, 0, 0, 0, 0, 0, 0, 0, 0, 0, 1, 0, 0, 0, 0], [0, 0, 0, 0, 0, 0, 0, 0, 0, 0, 0, 0, 1, 0, 0, 0], [0, 0, 0, 0, 0, 0, 0, 0, 0, 0, 0, 0, 0, 1, 0, 0], [0, 0, 0, 0, 0, 0, 0, 0, 0, 0, 0, 0, 0, 0, 1, 0], [0, 0, 0, 0, 0, 0, 0, 0, 0, 0, 0, 0, 0, 0, 0, 1]]\n",
      "State Vector: Statevector([0.        +0.00000000e+00j, 0.        -0.00000000e+00j,\n",
      "             0.        +0.00000000e+00j, 0.        +0.00000000e+00j,\n",
      "             0.        +0.00000000e+00j, 0.70710678+4.32978028e-16j,\n",
      "             0.        +0.00000000e+00j, 0.        +0.00000000e+00j,\n",
      "             0.        +0.00000000e+00j, 0.        +0.00000000e+00j,\n",
      "             0.        +0.00000000e+00j, 0.        +0.00000000e+00j,\n",
      "             0.        +0.00000000e+00j, 0.70710678+6.06169239e-16j,\n",
      "             0.        +0.00000000e+00j, 0.        +0.00000000e+00j],\n",
      "            dims=(2, 2, 2, 2))\n"
     ]
    }
   ],
   "source": [
    "#grovers algorithm\n",
    "#NOT FINISHED DOES NOT WORK\n",
    "import numpy as np\n",
    "from qiskit.quantum_info import Statevector\n",
    "from qiskit import Aer\n",
    "from qiskit import execute,QuantumCircuit,QuantumRegister,ClassicalRegister\n",
    "from qiskit.extensions import UnitaryGate\n",
    "from qiskit.circuit.library import MCMT\n",
    "backend = Aer.get_backend(\"statevector_simulator\")\n",
    "n = 100\n",
    "while n > 7:\n",
    "    n = int(input(\"Give a number\"))\n",
    "\n",
    "indices = input(\"Give list of indices\")\n",
    "\n",
    "list = indices.split(\",\")\n",
    "m=[[0 for x in range(2**n)] for y in range(2**n)]\n",
    "\n",
    "for y in range(0,2**n):\n",
    "    m[y][y] = 1\n",
    "for i in list:\n",
    "    y = int(i)\n",
    "    m[y][y] = -1\n",
    "qr = QuantumRegister(n)\n",
    "cr = ClassicalRegister(n)\n",
    "phase_oracle = UnitaryGate(m)\n",
    "qc = QuantumCircuit(cr,qr)\n",
    "for i in qr:\n",
    "    qc.h(i)\n",
    "c = 0\n",
    "s = (np.pi)*np.sqrt(n/len(list))/4\n",
    "qc.append(phase_oracle,[i for i in qr])\n",
    "\n",
    "z=[[0 for x in range(2**n)] for y in range(2**n)]\n",
    "for y in range(0,2**n):\n",
    "    z[y][y] = 1\n",
    "z[(2**n) - 1][(2**n) - 1] = -1\n",
    "mcz = UnitaryGate(z)\n",
    "while c < s:\n",
    "    for i in qr:\n",
    "        qc.h(i)\n",
    "    for i in qr:\n",
    "        qc.x(i)\n",
    "    qc.append(mcz,[i for i in qr])\n",
    "    for i in qr:\n",
    "        qc.x(i)\n",
    "    for i in qr:\n",
    "        qc.h(i)\n",
    "    c+=1\n",
    "for i in range(n-1):\n",
    "    qc.measure(qr[i],cr[i])\n",
    "\n",
    "result = execute(qc, backend=backend, shots=1024).result()\n",
    "print('State Vector:', result.get_statevector() )"
   ]
  },
  {
   "cell_type": "code",
   "execution_count": null,
   "id": "da408846-e802-42b4-bb11-74fb975f1779",
   "metadata": {},
   "outputs": [],
   "source": []
  }
 ],
 "metadata": {
  "kernelspec": {
   "display_name": "Python 3 (ipykernel)",
   "language": "python",
   "name": "python3"
  },
  "language_info": {
   "codemirror_mode": {
    "name": "ipython",
    "version": 3
   },
   "file_extension": ".py",
   "mimetype": "text/x-python",
   "name": "python",
   "nbconvert_exporter": "python",
   "pygments_lexer": "ipython3",
   "version": "3.10.11"
  }
 },
 "nbformat": 4,
 "nbformat_minor": 5
}
