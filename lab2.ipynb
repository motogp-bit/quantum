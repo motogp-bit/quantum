{
 "cells": [
  {
   "cell_type": "code",
   "execution_count": 13,
   "id": "122d4c5a-c251-4c2b-a432-25423597b7e7",
   "metadata": {},
   "outputs": [
    {
     "name": "stdin",
     "output_type": "stream",
     "text": [
      "Give a number 3\n",
      "Give list of indices 1\n"
     ]
    },
    {
     "name": "stdout",
     "output_type": "stream",
     "text": [
      "State Vector: Statevector([ 0.        +0.00000000e+00j,  0.8804711 +7.79669344e-16j,\n",
      "              0.        +0.00000000e+00j,  0.        -0.00000000e+00j,\n",
      "              0.        +0.00000000e+00j, -0.47409982-4.06423382e-16j,\n",
      "              0.        +0.00000000e+00j,  0.        -0.00000000e+00j],\n",
      "            dims=(2, 2, 2))\n"
     ]
    }
   ],
   "source": [
    "#grovers algorithm\n",
    "import numpy as np\n",
    "from qiskit.quantum_info import Statevector\n",
    "from qiskit import Aer\n",
    "from qiskit import execute,QuantumCircuit,QuantumRegister,ClassicalRegister\n",
    "from qiskit.extensions import UnitaryGate\n",
    "from qiskit.circuit.library import GroverOperator\n",
    "backend = Aer.get_backend(\"statevector_simulator\")\n",
    "n = 100\n",
    "while n > 7:\n",
    "    n = int(input(\"Give a number\"))\n",
    "\n",
    "qr = QuantumRegister(n)\n",
    "cr = ClassicalRegister(n)\n",
    "\n",
    "indices = input(\"Give list of indices\")\n",
    "list = indices.split(\",\")\n",
    "for i in range(len(list)):\n",
    "    list[i] = int(list[i])\n",
    "    \n",
    "m=[[0 for x in range(2**n)] for y in range(2**n)]\n",
    "\n",
    "for y in range(0,2**n):\n",
    "    m[y][y] = 1\n",
    "for i in list:\n",
    "    m[i][i] = -1\n",
    "phase_oracle = UnitaryGate(m)\n",
    "qr1= QuantumRegister(n)\n",
    "qc1 = QuantumCircuit(qr1)\n",
    "qc1.append(phase_oracle,[i for i in qr1])\n",
    "qc = QuantumCircuit(cr,qr)\n",
    "for i in qr:\n",
    "    qc.h(i)\n",
    "c = 0\n",
    "s = (np.pi)*np.sqrt((2**n)/len(list))/4\n",
    "    \n",
    "grover_op = GroverOperator(qc1)\n",
    "\n",
    "while c < s:\n",
    "    qc.append(grover_op,[i for i in qr])\n",
    "    c+=1\n",
    "for i in range(n-1):\n",
    "    qc.measure(qr[i],cr[i])\n",
    "\n",
    "result = execute(qc, backend=backend, shots=1024).result()\n",
    "print('State Vector:', result.get_statevector() )"
   ]
  },
  {
   "cell_type": "code",
   "execution_count": null,
   "id": "bfb90b0f-1822-4418-80d1-58548218d802",
   "metadata": {},
   "outputs": [],
   "source": []
  }
 ],
 "metadata": {
  "kernelspec": {
   "display_name": "Python 3 (ipykernel)",
   "language": "python",
   "name": "python3"
  },
  "language_info": {
   "codemirror_mode": {
    "name": "ipython",
    "version": 3
   },
   "file_extension": ".py",
   "mimetype": "text/x-python",
   "name": "python",
   "nbconvert_exporter": "python",
   "pygments_lexer": "ipython3",
   "version": "3.10.11"
  }
 },
 "nbformat": 4,
 "nbformat_minor": 5
}
