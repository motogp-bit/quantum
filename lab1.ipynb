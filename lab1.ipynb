{
 "cells": [
  {
   "cell_type": "code",
   "execution_count": 1,
   "id": "e39af1d2-979f-4d92-8148-b2851f769c79",
   "metadata": {},
   "outputs": [
    {
     "data": {
      "text/plain": [
       "<qiskit.circuit.instructionset.InstructionSet at 0x20995f46d40>"
      ]
     },
     "execution_count": 1,
     "metadata": {},
     "output_type": "execute_result"
    }
   ],
   "source": [
    "from qiskit.quantum_info import Statevector\n",
    "from qiskit import QuantumCircuit\n",
    "sv = Statevector.from_label('00')\n",
    "mycircuit = QuantumCircuit(2)\n",
    "mycircuit.h(0)\n",
    "mycircuit.cx(0,1)\n",
    "#mycircuit.draw('mpl')\n",
    "#00 + 11 bell state"
   ]
  },
  {
   "cell_type": "code",
   "execution_count": 2,
   "id": "1f45e3dc-4a45-434e-a7de-1cbe39082a20",
   "metadata": {},
   "outputs": [
    {
     "data": {
      "text/plain": [
       "<qiskit.circuit.instructionset.InstructionSet at 0x209e28e5d50>"
      ]
     },
     "execution_count": 2,
     "metadata": {},
     "output_type": "execute_result"
    }
   ],
   "source": [
    "from qiskit.quantum_info import Statevector\n",
    "from qiskit import QuantumCircuit\n",
    "sv = Statevector.from_label('10')\n",
    "mycircuit = QuantumCircuit(2)\n",
    "mycircuit.h(0)\n",
    "mycircuit.cx(0,1)\n",
    "#mycircuit.draw('mpl')\n",
    "#01 + 10 bell state"
   ]
  },
  {
   "cell_type": "code",
   "execution_count": 3,
   "id": "61f540a8-6bae-4658-8bd1-009d492ec605",
   "metadata": {},
   "outputs": [
    {
     "data": {
      "text/plain": [
       "<qiskit.circuit.instructionset.InstructionSet at 0x20995f47340>"
      ]
     },
     "execution_count": 3,
     "metadata": {},
     "output_type": "execute_result"
    }
   ],
   "source": [
    "from qiskit.quantum_info import Statevector\n",
    "from qiskit import QuantumCircuit\n",
    "sv = Statevector.from_label('01')\n",
    "mycircuit = QuantumCircuit(2)\n",
    "mycircuit.h(0)\n",
    "mycircuit.cx(0,1)\n",
    "#mycircuit.draw('mpl')\n",
    "#00 - 11 bell state"
   ]
  },
  {
   "cell_type": "code",
   "execution_count": 4,
   "id": "11f63753-7a30-465a-93a4-665952988726",
   "metadata": {},
   "outputs": [
    {
     "data": {
      "text/plain": [
       "<qiskit.circuit.instructionset.InstructionSet at 0x20995f47be0>"
      ]
     },
     "execution_count": 4,
     "metadata": {},
     "output_type": "execute_result"
    }
   ],
   "source": [
    "from qiskit.quantum_info import Statevector\n",
    "from qiskit import QuantumCircuit\n",
    "sv = Statevector.from_label('11')\n",
    "mycircuit = QuantumCircuit(2)\n",
    "mycircuit.h(0)\n",
    "mycircuit.cx(0,1)\n",
    "#mycircuit.draw('mpl')\n",
    "#01 - 10 bell state"
   ]
  },
  {
   "cell_type": "code",
   "execution_count": 5,
   "id": "a7fe86da-e5ca-4ae4-b686-ccc9b3b724e1",
   "metadata": {},
   "outputs": [
    {
     "name": "stdout",
     "output_type": "stream",
     "text": [
      "State Vector: Statevector([ 0.        +0.00000000e+00j,  0.        +0.00000000e+00j,\n",
      "              0.54772256-6.70766677e-17j, -0.        +0.00000000e+00j,\n",
      "              0.        +0.00000000e+00j, -0.        +0.00000000e+00j,\n",
      "              0.83666003+0.00000000e+00j,  0.        +0.00000000e+00j],\n",
      "            dims=(2, 2, 2))\n"
     ]
    }
   ],
   "source": [
    "#quantum teleportation of sqrt(0.7) + sqrt(0.3)\n",
    "import numpy as np\n",
    "from qiskit.quantum_info import Statevector\n",
    "from qiskit import Aer\n",
    "from qiskit import execute,QuantumCircuit,QuantumRegister,ClassicalRegister\n",
    "backend = Aer.get_backend(\"statevector_simulator\")\n",
    "qr = QuantumRegister(3)\n",
    "cr = ClassicalRegister(2)\n",
    "qc = QuantumCircuit(qr,cr)\n",
    "qc.initialize([np.sqrt(0.7), np.sqrt(0.3)],qr[0])\n",
    "qc.h(qr[1])\n",
    "qc.cx(qr[1],qr[2])\n",
    "qc.cx(qr[0],qr[1])\n",
    "qc.h(qr[0])\n",
    "qc.measure([qr[0],qr[1]],[cr[0],cr[1]])\n",
    "if (cr[0] == 1):\n",
    "    qc.x(qr[2])\n",
    "if (cr[1] == 1):\n",
    "    qc.z(qr[2])\n",
    "result = execute(qc, backend=backend, shots=1024).result()\n",
    "print('State Vector:', result.get_statevector() )"
   ]
  },
  {
   "cell_type": "code",
   "execution_count": null,
   "id": "2148020a-f608-4ab7-ae16-0032477d9c13",
   "metadata": {},
   "outputs": [],
   "source": []
  }
 ],
 "metadata": {
  "kernelspec": {
   "display_name": "Python 3 (ipykernel)",
   "language": "python",
   "name": "python3"
  },
  "language_info": {
   "codemirror_mode": {
    "name": "ipython",
    "version": 3
   },
   "file_extension": ".py",
   "mimetype": "text/x-python",
   "name": "python",
   "nbconvert_exporter": "python",
   "pygments_lexer": "ipython3",
   "version": "3.10.11"
  }
 },
 "nbformat": 4,
 "nbformat_minor": 5
}
